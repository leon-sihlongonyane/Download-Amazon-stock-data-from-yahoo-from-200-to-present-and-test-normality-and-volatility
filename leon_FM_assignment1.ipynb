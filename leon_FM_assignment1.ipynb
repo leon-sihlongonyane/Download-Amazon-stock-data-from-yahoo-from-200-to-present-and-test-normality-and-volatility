{
  "nbformat": 4,
  "nbformat_minor": 0,
  "metadata": {
    "colab": {
      "name": "leon_FM_assignment1.ipynb",
      "provenance": [],
      "collapsed_sections": []
    },
    "kernelspec": {
      "name": "python3",
      "display_name": "Python 3"
    },
    "language_info": {
      "name": "python"
    }
  },
  "cells": [
    {
      "cell_type": "code",
      "execution_count": 88,
      "metadata": {
        "id": "8LGqI4Qc30MZ"
      },
      "outputs": [],
      "source": [
        ""
      ]
    },
    {
      "cell_type": "markdown",
      "source": [
        "## QUESTION 2\n",
        "\n"
      ],
      "metadata": {
        "id": "lOoYuQeWpzFk"
      }
    },
    {
      "cell_type": "code",
      "source": [
        "import numpy as np  #module for maths capabilities\n",
        "np.random.seed(1000)\n",
        "import scipy.stats as scs   #for some probability capabilities\n",
        "import matplotlib as mpl\n",
        "import matplotlib.pyplot as plt  #module for plotting\n",
        "%matplotlib inline\n",
        "\n",
        "import warnings\n",
        "warnings.filterwarnings('ignore')"
      ],
      "metadata": {
        "id": "BVTwm96mY6fP"
      },
      "execution_count": 89,
      "outputs": []
    },
    {
      "cell_type": "code",
      "source": [
        "#We define function for payoff of given strike price\n",
        "def payoff(N):\n",
        "    payf = [] #initiate payoff\n",
        "    stockp= np.linspace(0,200,200)  #setting list of stock price\n",
        "    for i in range(120):   #begin for loop\n",
        "        if N >= stockp[i]:  #if N less than or equal stock, the program updates 0 to the payoff, otherwise calculate difference\n",
        "            payf.append(0)\n",
        "        else:\n",
        "            payf.append(stockp[i]-N)\n",
        "    return payf\n",
        "#plot of the payoff for a portfolio P\n",
        "X= np.linspace(0,200,120)  #X values are stock price\n",
        "                          #Y values are payoff from corresponding strike\n",
        "plt.title('European call option')\n",
        "plt.ylabel('Payoff')\n",
        "plt.xlabel('Stock price')\n",
        "plt.plot(X,payoff(50), color = 'blue') #Opt1\n",
        "plt.plot(X,payoff(60), color = 'red')  #Opt2\n",
        "plt.plot(X,payoff(70), color = 'orange') #Opt3\n",
        "plt.grid()\n",
        "plt.show()\n"
      ],
      "metadata": {
        "colab": {
          "base_uri": "https://localhost:8080/",
          "height": 295
        },
        "id": "C1yJjzKnnYhR",
        "outputId": "3157fa42-7619-49c9-c422-3c9b8038d532"
      },
      "execution_count": 90,
      "outputs": [
        {
          "output_type": "display_data",
          "data": {
            "image/png": "[encoded data removed]",
            "text/plain": [
              "<Figure size 432x288 with 1 Axes>"
            ]
          },
          "metadata": {
            "needs_background": "light"
          }
        }
      ]
    },
    {
      "cell_type": "markdown",
      "source": [
        "**QUESTION 6**"
      ],
      "metadata": {
        "id": "yK3ethCrp8UM"
      }
    },
    {
      "cell_type": "code",
      "source": [
        ""
      ],
      "metadata": {
        "id": "zCOvT_B7Y7jV"
      },
      "execution_count": 90,
      "outputs": []
    },
    {
      "cell_type": "code",
      "execution_count": 91,
      "metadata": {
        "colab": {
          "base_uri": "https://localhost:8080/"
        },
        "id": "gH5y-YQrLX0r",
        "outputId": "e97dbf04-46b1-48ec-8269-4d7d74630f2b"
      },
      "outputs": [
        {
          "output_type": "stream",
          "name": "stdout",
          "text": [
            "Requirement already satisfied: yfinance in /usr/local/lib/python3.7/dist-packages (0.1.70)\n",
            "Requirement already satisfied: pandas>=0.24.0 in /usr/local/lib/python3.7/dist-packages (from yfinance) (1.3.5)\n",
            "Requirement already satisfied: numpy>=1.15 in /usr/local/lib/python3.7/dist-packages (from yfinance) (1.21.5)\n",
            "Requirement already satisfied: requests>=2.26 in /usr/local/lib/python3.7/dist-packages (from yfinance) (2.27.1)\n",
            "Requirement already satisfied: multitasking>=0.0.7 in /usr/local/lib/python3.7/dist-packages (from yfinance) (0.0.10)\n",
            "Requirement already satisfied: lxml>=4.5.1 in /usr/local/lib/python3.7/dist-packages (from yfinance) (4.8.0)\n",
            "Requirement already satisfied: pytz>=2017.3 in /usr/local/lib/python3.7/dist-packages (from pandas>=0.24.0->yfinance) (2018.9)\n",
            "Requirement already satisfied: python-dateutil>=2.7.3 in /usr/local/lib/python3.7/dist-packages (from pandas>=0.24.0->yfinance) (2.8.2)\n",
            "Requirement already satisfied: six>=1.5 in /usr/local/lib/python3.7/dist-packages (from python-dateutil>=2.7.3->pandas>=0.24.0->yfinance) (1.15.0)\n",
            "Requirement already satisfied: charset-normalizer~=2.0.0 in /usr/local/lib/python3.7/dist-packages (from requests>=2.26->yfinance) (2.0.12)\n",
            "Requirement already satisfied: certifi>=2017.4.17 in /usr/local/lib/python3.7/dist-packages (from requests>=2.26->yfinance) (2021.10.8)\n",
            "Requirement already satisfied: urllib3<1.27,>=1.21.1 in /usr/local/lib/python3.7/dist-packages (from requests>=2.26->yfinance) (1.24.3)\n",
            "Requirement already satisfied: idna<4,>=2.5 in /usr/local/lib/python3.7/dist-packages (from requests>=2.26->yfinance) (2.10)\n"
          ]
        }
      ],
      "source": [
        "!pip3 install yfinance --upgrade\n",
        "#instatlling yahoo financial data module"
      ]
    },
    {
      "cell_type": "code",
      "source": [
        "def print_statistics(array):  \n",
        "    ''' Prints selected statistics.\n",
        "    Parameters\n",
        "    ==========\n",
        "    array: ndarray       (object to generate statistics on)\n",
        "    '''\n",
        "    sta = scs.describe(array)\n",
        "    print (\"%14s %15s\" % ('statistic', 'value'))\n",
        "    print (30 * \"-\")\n",
        "    print (\"%14s %15.5f\" % ('size', sta[0]))\n",
        "    print (\"%14s %15.5f\" % ('min', sta[1][0]))\n",
        "    print (\"%14s %15.5f\" % ('max', sta[1][1]))\n",
        "    print (\"%14s %15.5f\" % ('mean', sta[2]))\n",
        "    print (\"%14s %15.5f\" % ('std', np.sqrt(sta[3])))\n",
        "    print (\"%14s %15.5f\" % ('skew', sta[4]))\n",
        "    print (\"%14s %15.5f\" % ('kurtosis', sta[5]))\n"
      ],
      "metadata": {
        "id": "B1uaUpBpaf5C"
      },
      "execution_count": 92,
      "outputs": []
    },
    {
      "cell_type": "code",
      "source": [
        "def normality_tests(arr):\n",
        "    ''' Tests for normality distribution of given data set.\n",
        "    Parameters\n",
        "    ==========\n",
        "    array: ndarray\n",
        "    object to generate statistics on\n",
        "    '''\n",
        "    print (\"Skew of data set %14.3f\" % scs.skew(arr))\n",
        "    print (\"Skew test p-value %14.3f\" % scs.skewtest(arr)[1])\n",
        "    print (\"Kurt of data set %14.3f\" % scs.kurtosis(arr))\n",
        "    print (\"Kurt test p-value %14.3f\" % scs.kurtosistest(arr)[1])\n",
        "    print (\"Norm test p-value %14.3f\" % scs.normaltest(arr)[1])"
      ],
      "metadata": {
        "id": "6qYRFOKpale6"
      },
      "execution_count": 93,
      "outputs": []
    },
    {
      "cell_type": "markdown",
      "source": [
        "## (i) Download Adj Close stock data from the beginning of 2004 to the present time from Yahoo."
      ],
      "metadata": {
        "id": "P12DOwoTgrqz"
      }
    },
    {
      "cell_type": "code",
      "source": [
        "import yfinance as yf   #module for fincial cababilities\n",
        "dta=yf.download (\"AMZN\",start=\"2004-01-01\",end=\"2022-03-05\")"
      ],
      "metadata": {
        "colab": {
          "base_uri": "https://localhost:8080/"
        },
        "id": "r1sYnRF-Luq-",
        "outputId": "12689be7-bdcf-4d76-a50d-698b0fdcd678"
      },
      "execution_count": 94,
      "outputs": [
        {
          "output_type": "stream",
          "name": "stdout",
          "text": [
            "\r[*********************100%***********************]  1 of 1 completed\n"
          ]
        }
      ]
    },
    {
      "cell_type": "code",
      "source": [
        "import pandas as pd\n",
        "close=dta['Adj Close']\n",
        "data=pd.DataFrame(close.values,columns=['amazon'])  # data is now a pandas object\n",
        "data.index=close.index"
      ],
      "metadata": {
        "id": "K0nmyDcUNSzi"
      },
      "execution_count": 95,
      "outputs": []
    },
    {
      "cell_type": "code",
      "source": [
        "data.head()"
      ],
      "metadata": {
        "colab": {
          "base_uri": "https://localhost:8080/",
          "height": 238
        },
        "id": "Qvtl9oc6NaYT",
        "outputId": "72f39876-6aca-46e8-e936-74d8ff299ecd"
      },
      "execution_count": 96,
      "outputs": [
        {
          "output_type": "execute_result",
          "data": {
            "text/html": [
              "\n",
              "  <div id=\"df-b4b1cc10-ff67-4375-a0f5-22dfa48d40d9\">\n",
              "    <div class=\"colab-df-container\">\n",
              "      <div>\n",
              "<style scoped>\n",
              "    .dataframe tbody tr th:only-of-type {\n",
              "        vertical-align: middle;\n",
              "    }\n",
              "\n",
              "    .dataframe tbody tr th {\n",
              "        vertical-align: top;\n",
              "    }\n",
              "\n",
              "    .dataframe thead th {\n",
              "        text-align: right;\n",
              "    }\n",
              "</style>\n",
              "<table border=\"1\" class=\"dataframe\">\n",
              "  <thead>\n",
              "    <tr style=\"text-align: right;\">\n",
              "      <th></th>\n",
              "      <th>amazon</th>\n",
              "    </tr>\n",
              "    <tr>\n",
              "      <th>Date</th>\n",
              "      <th></th>\n",
              "    </tr>\n",
              "  </thead>\n",
              "  <tbody>\n",
              "    <tr>\n",
              "      <th>2004-01-02</th>\n",
              "      <td>51.900002</td>\n",
              "    </tr>\n",
              "    <tr>\n",
              "      <th>2004-01-05</th>\n",
              "      <td>53.270000</td>\n",
              "    </tr>\n",
              "    <tr>\n",
              "      <th>2004-01-06</th>\n",
              "      <td>53.029999</td>\n",
              "    </tr>\n",
              "    <tr>\n",
              "      <th>2004-01-07</th>\n",
              "      <td>51.900002</td>\n",
              "    </tr>\n",
              "    <tr>\n",
              "      <th>2004-01-08</th>\n",
              "      <td>50.240002</td>\n",
              "    </tr>\n",
              "  </tbody>\n",
              "</table>\n",
              "</div>\n",
              "      <button class=\"colab-df-convert\" onclick=\"convertToInteractive('df-b4b1cc10-ff67-4375-a0f5-22dfa48d40d9')\"\n",
              "              title=\"Convert this dataframe to an interactive table.\"\n",
              "              style=\"display:none;\">\n",
              "        \n",
              "  <svg xmlns=\"http://www.w3.org/2000/svg\" height=\"24px\"viewBox=\"0 0 24 24\"\n",
              "       width=\"24px\">\n",
              "    <path d=\"M0 0h24v24H0V0z\" fill=\"none\"/>\n",
              "    <path d=\"M18.56 5.44l.94 2.06.94-2.06 2.06-.94-2.06-.94-.94-2.06-.94 2.06-2.06.94zm-11 1L8.5 8.5l.94-2.06 2.06-.94-2.06-.94L8.5 2.5l-.94 2.06-2.06.94zm10 10l.94 2.06.94-2.06 2.06-.94-2.06-.94-.94-2.06-.94 2.06-2.06.94z\"/><path d=\"M17.41 7.96l-1.37-1.37c-.4-.4-.92-.59-1.43-.59-.52 0-1.04.2-1.43.59L10.3 9.45l-7.72 7.72c-.78.78-.78 2.05 0 2.83L4 21.41c.39.39.9.59 1.41.59.51 0 1.02-.2 1.41-.59l7.78-7.78 2.81-2.81c.8-.78.8-2.07 0-2.86zM5.41 20L4 18.59l7.72-7.72 1.47 1.35L5.41 20z\"/>\n",
              "  </svg>\n",
              "      </button>\n",
              "      \n",
              "  <style>\n",
              "    .colab-df-container {\n",
              "      display:flex;\n",
              "      flex-wrap:wrap;\n",
              "      gap: 12px;\n",
              "    }\n",
              "\n",
              "    .colab-df-convert {\n",
              "      background-color: #E8F0FE;\n",
              "      border: none;\n",
              "      border-radius: 50%;\n",
              "      cursor: pointer;\n",
              "      display: none;\n",
              "      fill: #1967D2;\n",
              "      height: 32px;\n",
              "      padding: 0 0 0 0;\n",
              "      width: 32px;\n",
              "    }\n",
              "\n",
              "    .colab-df-convert:hover {\n",
              "      background-color: #E2EBFA;\n",
              "      box-shadow: 0px 1px 2px rgba(60, 64, 67, 0.3), 0px 1px 3px 1px rgba(60, 64, 67, 0.15);\n",
              "      fill: #174EA6;\n",
              "    }\n",
              "\n",
              "    [theme=dark] .colab-df-convert {\n",
              "      background-color: #3B4455;\n",
              "      fill: #D2E3FC;\n",
              "    }\n",
              "\n",
              "    [theme=dark] .colab-df-convert:hover {\n",
              "      background-color: #434B5C;\n",
              "      box-shadow: 0px 1px 3px 1px rgba(0, 0, 0, 0.15);\n",
              "      filter: drop-shadow(0px 1px 2px rgba(0, 0, 0, 0.3));\n",
              "      fill: #FFFFFF;\n",
              "    }\n",
              "  </style>\n",
              "\n",
              "      <script>\n",
              "        const buttonEl =\n",
              "          document.querySelector('#df-b4b1cc10-ff67-4375-a0f5-22dfa48d40d9 button.colab-df-convert');\n",
              "        buttonEl.style.display =\n",
              "          google.colab.kernel.accessAllowed ? 'block' : 'none';\n",
              "\n",
              "        async function convertToInteractive(key) {\n",
              "          const element = document.querySelector('#df-b4b1cc10-ff67-4375-a0f5-22dfa48d40d9');\n",
              "          const dataTable =\n",
              "            await google.colab.kernel.invokeFunction('convertToInteractive',\n",
              "                                                     [key], {});\n",
              "          if (!dataTable) return;\n",
              "\n",
              "          const docLinkHtml = 'Like what you see? Visit the ' +\n",
              "            '<a target=\"_blank\" href=https://colab.research.google.com/notebooks/data_table.ipynb>data table notebook</a>'\n",
              "            + ' to learn more about interactive tables.';\n",
              "          element.innerHTML = '';\n",
              "          dataTable['output_type'] = 'display_data';\n",
              "          await google.colab.output.renderOutput(dataTable, element);\n",
              "          const docLink = document.createElement('div');\n",
              "          docLink.innerHTML = docLinkHtml;\n",
              "          element.appendChild(docLink);\n",
              "        }\n",
              "      </script>\n",
              "    </div>\n",
              "  </div>\n",
              "  "
            ],
            "text/plain": [
              "               amazon\n",
              "Date                 \n",
              "2004-01-02  51.900002\n",
              "2004-01-05  53.270000\n",
              "2004-01-06  53.029999\n",
              "2004-01-07  51.900002\n",
              "2004-01-08  50.240002"
            ]
          },
          "metadata": {},
          "execution_count": 96
        }
      ]
    },
    {
      "cell_type": "markdown",
      "source": [
        "### (ii) Calculate the returns. Plot stock prices, and log returns."
      ],
      "metadata": {
        "id": "TmRhXAN_hCQ6"
      }
    },
    {
      "cell_type": "code",
      "source": [
        "import numpy as np\n",
        "(data / data.iloc[0] * 100).plot(figsize=(12,8))   # takes care of all plotting functions in pandas\n",
        "log_returns = np.log(data / data.shift(1))\n",
        "log_returns.head()"
      ],
      "metadata": {
        "colab": {
          "base_uri": "https://localhost:8080/",
          "height": 686
        },
        "id": "G0WdUB-jYYxE",
        "outputId": "58ae0d60-67a4-4beb-9563-17e6733aa042"
      },
      "execution_count": 97,
      "outputs": [
        {
          "output_type": "execute_result",
          "data": {
            "text/html": [
              "\n",
              "  <div id=\"df-33ed357b-a2db-4c95-9d55-f6528603df99\">\n",
              "    <div class=\"colab-df-container\">\n",
              "      <div>\n",
              "<style scoped>\n",
              "    .dataframe tbody tr th:only-of-type {\n",
              "        vertical-align: middle;\n",
              "    }\n",
              "\n",
              "    .dataframe tbody tr th {\n",
              "        vertical-align: top;\n",
              "    }\n",
              "\n",
              "    .dataframe thead th {\n",
              "        text-align: right;\n",
              "    }\n",
              "</style>\n",
              "<table border=\"1\" class=\"dataframe\">\n",
              "  <thead>\n",
              "    <tr style=\"text-align: right;\">\n",
              "      <th></th>\n",
              "      <th>amazon</th>\n",
              "    </tr>\n",
              "    <tr>\n",
              "      <th>Date</th>\n",
              "      <th></th>\n",
              "    </tr>\n",
              "  </thead>\n",
              "  <tbody>\n",
              "    <tr>\n",
              "      <th>2004-01-02</th>\n",
              "      <td>NaN</td>\n",
              "    </tr>\n",
              "    <tr>\n",
              "      <th>2004-01-05</th>\n",
              "      <td>0.026055</td>\n",
              "    </tr>\n",
              "    <tr>\n",
              "      <th>2004-01-06</th>\n",
              "      <td>-0.004516</td>\n",
              "    </tr>\n",
              "    <tr>\n",
              "      <th>2004-01-07</th>\n",
              "      <td>-0.021539</td>\n",
              "    </tr>\n",
              "    <tr>\n",
              "      <th>2004-01-08</th>\n",
              "      <td>-0.032507</td>\n",
              "    </tr>\n",
              "  </tbody>\n",
              "</table>\n",
              "</div>\n",
              "      <button class=\"colab-df-convert\" onclick=\"convertToInteractive('df-33ed357b-a2db-4c95-9d55-f6528603df99')\"\n",
              "              title=\"Convert this dataframe to an interactive table.\"\n",
              "              style=\"display:none;\">\n",
              "        \n",
              "  <svg xmlns=\"http://www.w3.org/2000/svg\" height=\"24px\"viewBox=\"0 0 24 24\"\n",
              "       width=\"24px\">\n",
              "    <path d=\"M0 0h24v24H0V0z\" fill=\"none\"/>\n",
              "    <path d=\"M18.56 5.44l.94 2.06.94-2.06 2.06-.94-2.06-.94-.94-2.06-.94 2.06-2.06.94zm-11 1L8.5 8.5l.94-2.06 2.06-.94-2.06-.94L8.5 2.5l-.94 2.06-2.06.94zm10 10l.94 2.06.94-2.06 2.06-.94-2.06-.94-.94-2.06-.94 2.06-2.06.94z\"/><path d=\"M17.41 7.96l-1.37-1.37c-.4-.4-.92-.59-1.43-.59-.52 0-1.04.2-1.43.59L10.3 9.45l-7.72 7.72c-.78.78-.78 2.05 0 2.83L4 21.41c.39.39.9.59 1.41.59.51 0 1.02-.2 1.41-.59l7.78-7.78 2.81-2.81c.8-.78.8-2.07 0-2.86zM5.41 20L4 18.59l7.72-7.72 1.47 1.35L5.41 20z\"/>\n",
              "  </svg>\n",
              "      </button>\n",
              "      \n",
              "  <style>\n",
              "    .colab-df-container {\n",
              "      display:flex;\n",
              "      flex-wrap:wrap;\n",
              "      gap: 12px;\n",
              "    }\n",
              "\n",
              "    .colab-df-convert {\n",
              "      background-color: #E8F0FE;\n",
              "      border: none;\n",
              "      border-radius: 50%;\n",
              "      cursor: pointer;\n",
              "      display: none;\n",
              "      fill: #1967D2;\n",
              "      height: 32px;\n",
              "      padding: 0 0 0 0;\n",
              "      width: 32px;\n",
              "    }\n",
              "\n",
              "    .colab-df-convert:hover {\n",
              "      background-color: #E2EBFA;\n",
              "      box-shadow: 0px 1px 2px rgba(60, 64, 67, 0.3), 0px 1px 3px 1px rgba(60, 64, 67, 0.15);\n",
              "      fill: #174EA6;\n",
              "    }\n",
              "\n",
              "    [theme=dark] .colab-df-convert {\n",
              "      background-color: #3B4455;\n",
              "      fill: #D2E3FC;\n",
              "    }\n",
              "\n",
              "    [theme=dark] .colab-df-convert:hover {\n",
              "      background-color: #434B5C;\n",
              "      box-shadow: 0px 1px 3px 1px rgba(0, 0, 0, 0.15);\n",
              "      filter: drop-shadow(0px 1px 2px rgba(0, 0, 0, 0.3));\n",
              "      fill: #FFFFFF;\n",
              "    }\n",
              "  </style>\n",
              "\n",
              "      <script>\n",
              "        const buttonEl =\n",
              "          document.querySelector('#df-33ed357b-a2db-4c95-9d55-f6528603df99 button.colab-df-convert');\n",
              "        buttonEl.style.display =\n",
              "          google.colab.kernel.accessAllowed ? 'block' : 'none';\n",
              "\n",
              "        async function convertToInteractive(key) {\n",
              "          const element = document.querySelector('#df-33ed357b-a2db-4c95-9d55-f6528603df99');\n",
              "          const dataTable =\n",
              "            await google.colab.kernel.invokeFunction('convertToInteractive',\n",
              "                                                     [key], {});\n",
              "          if (!dataTable) return;\n",
              "\n",
              "          const docLinkHtml = 'Like what you see? Visit the ' +\n",
              "            '<a target=\"_blank\" href=https://colab.research.google.com/notebooks/data_table.ipynb>data table notebook</a>'\n",
              "            + ' to learn more about interactive tables.';\n",
              "          element.innerHTML = '';\n",
              "          dataTable['output_type'] = 'display_data';\n",
              "          await google.colab.output.renderOutput(dataTable, element);\n",
              "          const docLink = document.createElement('div');\n",
              "          docLink.innerHTML = docLinkHtml;\n",
              "          element.appendChild(docLink);\n",
              "        }\n",
              "      </script>\n",
              "    </div>\n",
              "  </div>\n",
              "  "
            ],
            "text/plain": [
              "              amazon\n",
              "Date                \n",
              "2004-01-02       NaN\n",
              "2004-01-05  0.026055\n",
              "2004-01-06 -0.004516\n",
              "2004-01-07 -0.021539\n",
              "2004-01-08 -0.032507"
            ]
          },
          "metadata": {},
          "execution_count": 97
        },
        {
          "output_type": "display_data",
          "data": {
            "image/png": "[encoded data removed]",
            "text/plain": [
              "<Figure size 864x576 with 1 Axes>"
            ]
          },
          "metadata": {
            "needs_background": "light"
          }
        }
      ]
    },
    {
      "cell_type": "code",
      "source": [
        "data=data.dropna(axis=0,how='any')    # how='all' drps only complete rows of NA, how='any' drops all rows containing an NA\n",
        "data.head()"
      ],
      "metadata": {
        "colab": {
          "base_uri": "https://localhost:8080/",
          "height": 238
        },
        "id": "B29ucwhvYiF2",
        "outputId": "61424984-16fc-4b06-9ace-22dbdc79cba4"
      },
      "execution_count": 98,
      "outputs": [
        {
          "output_type": "execute_result",
          "data": {
            "text/html": [
              "\n",
              "  <div id=\"df-df767873-8118-4902-91a6-bd85bd3db2f6\">\n",
              "    <div class=\"colab-df-container\">\n",
              "      <div>\n",
              "<style scoped>\n",
              "    .dataframe tbody tr th:only-of-type {\n",
              "        vertical-align: middle;\n",
              "    }\n",
              "\n",
              "    .dataframe tbody tr th {\n",
              "        vertical-align: top;\n",
              "    }\n",
              "\n",
              "    .dataframe thead th {\n",
              "        text-align: right;\n",
              "    }\n",
              "</style>\n",
              "<table border=\"1\" class=\"dataframe\">\n",
              "  <thead>\n",
              "    <tr style=\"text-align: right;\">\n",
              "      <th></th>\n",
              "      <th>amazon</th>\n",
              "    </tr>\n",
              "    <tr>\n",
              "      <th>Date</th>\n",
              "      <th></th>\n",
              "    </tr>\n",
              "  </thead>\n",
              "  <tbody>\n",
              "    <tr>\n",
              "      <th>2004-01-02</th>\n",
              "      <td>51.900002</td>\n",
              "    </tr>\n",
              "    <tr>\n",
              "      <th>2004-01-05</th>\n",
              "      <td>53.270000</td>\n",
              "    </tr>\n",
              "    <tr>\n",
              "      <th>2004-01-06</th>\n",
              "      <td>53.029999</td>\n",
              "    </tr>\n",
              "    <tr>\n",
              "      <th>2004-01-07</th>\n",
              "      <td>51.900002</td>\n",
              "    </tr>\n",
              "    <tr>\n",
              "      <th>2004-01-08</th>\n",
              "      <td>50.240002</td>\n",
              "    </tr>\n",
              "  </tbody>\n",
              "</table>\n",
              "</div>\n",
              "      <button class=\"colab-df-convert\" onclick=\"convertToInteractive('df-df767873-8118-4902-91a6-bd85bd3db2f6')\"\n",
              "              title=\"Convert this dataframe to an interactive table.\"\n",
              "              style=\"display:none;\">\n",
              "        \n",
              "  <svg xmlns=\"http://www.w3.org/2000/svg\" height=\"24px\"viewBox=\"0 0 24 24\"\n",
              "       width=\"24px\">\n",
              "    <path d=\"M0 0h24v24H0V0z\" fill=\"none\"/>\n",
              "    <path d=\"M18.56 5.44l.94 2.06.94-2.06 2.06-.94-2.06-.94-.94-2.06-.94 2.06-2.06.94zm-11 1L8.5 8.5l.94-2.06 2.06-.94-2.06-.94L8.5 2.5l-.94 2.06-2.06.94zm10 10l.94 2.06.94-2.06 2.06-.94-2.06-.94-.94-2.06-.94 2.06-2.06.94z\"/><path d=\"M17.41 7.96l-1.37-1.37c-.4-.4-.92-.59-1.43-.59-.52 0-1.04.2-1.43.59L10.3 9.45l-7.72 7.72c-.78.78-.78 2.05 0 2.83L4 21.41c.39.39.9.59 1.41.59.51 0 1.02-.2 1.41-.59l7.78-7.78 2.81-2.81c.8-.78.8-2.07 0-2.86zM5.41 20L4 18.59l7.72-7.72 1.47 1.35L5.41 20z\"/>\n",
              "  </svg>\n",
              "      </button>\n",
              "      \n",
              "  <style>\n",
              "    .colab-df-container {\n",
              "      display:flex;\n",
              "      flex-wrap:wrap;\n",
              "      gap: 12px;\n",
              "    }\n",
              "\n",
              "    .colab-df-convert {\n",
              "      background-color: #E8F0FE;\n",
              "      border: none;\n",
              "      border-radius: 50%;\n",
              "      cursor: pointer;\n",
              "      display: none;\n",
              "      fill: #1967D2;\n",
              "      height: 32px;\n",
              "      padding: 0 0 0 0;\n",
              "      width: 32px;\n",
              "    }\n",
              "\n",
              "    .colab-df-convert:hover {\n",
              "      background-color: #E2EBFA;\n",
              "      box-shadow: 0px 1px 2px rgba(60, 64, 67, 0.3), 0px 1px 3px 1px rgba(60, 64, 67, 0.15);\n",
              "      fill: #174EA6;\n",
              "    }\n",
              "\n",
              "    [theme=dark] .colab-df-convert {\n",
              "      background-color: #3B4455;\n",
              "      fill: #D2E3FC;\n",
              "    }\n",
              "\n",
              "    [theme=dark] .colab-df-convert:hover {\n",
              "      background-color: #434B5C;\n",
              "      box-shadow: 0px 1px 3px 1px rgba(0, 0, 0, 0.15);\n",
              "      filter: drop-shadow(0px 1px 2px rgba(0, 0, 0, 0.3));\n",
              "      fill: #FFFFFF;\n",
              "    }\n",
              "  </style>\n",
              "\n",
              "      <script>\n",
              "        const buttonEl =\n",
              "          document.querySelector('#df-df767873-8118-4902-91a6-bd85bd3db2f6 button.colab-df-convert');\n",
              "        buttonEl.style.display =\n",
              "          google.colab.kernel.accessAllowed ? 'block' : 'none';\n",
              "\n",
              "        async function convertToInteractive(key) {\n",
              "          const element = document.querySelector('#df-df767873-8118-4902-91a6-bd85bd3db2f6');\n",
              "          const dataTable =\n",
              "            await google.colab.kernel.invokeFunction('convertToInteractive',\n",
              "                                                     [key], {});\n",
              "          if (!dataTable) return;\n",
              "\n",
              "          const docLinkHtml = 'Like what you see? Visit the ' +\n",
              "            '<a target=\"_blank\" href=https://colab.research.google.com/notebooks/data_table.ipynb>data table notebook</a>'\n",
              "            + ' to learn more about interactive tables.';\n",
              "          element.innerHTML = '';\n",
              "          dataTable['output_type'] = 'display_data';\n",
              "          await google.colab.output.renderOutput(dataTable, element);\n",
              "          const docLink = document.createElement('div');\n",
              "          docLink.innerHTML = docLinkHtml;\n",
              "          element.appendChild(docLink);\n",
              "        }\n",
              "      </script>\n",
              "    </div>\n",
              "  </div>\n",
              "  "
            ],
            "text/plain": [
              "               amazon\n",
              "Date                 \n",
              "2004-01-02  51.900002\n",
              "2004-01-05  53.270000\n",
              "2004-01-06  53.029999\n",
              "2004-01-07  51.900002\n",
              "2004-01-08  50.240002"
            ]
          },
          "metadata": {},
          "execution_count": 98
        }
      ]
    },
    {
      "cell_type": "code",
      "source": [
        "log_returns.plot(subplots=True,figsize=(8, 6))  #log return plot"
      ],
      "metadata": {
        "colab": {
          "base_uri": "https://localhost:8080/",
          "height": 402
        },
        "id": "tJru35YQuW2B",
        "outputId": "9adc313b-8680-4be8-ee53-96809350d494"
      },
      "execution_count": 99,
      "outputs": [
        {
          "output_type": "execute_result",
          "data": {
            "text/plain": [
              "array([<matplotlib.axes._subplots.AxesSubplot object at 0x7f42587d3250>],\n",
              "      dtype=object)"
            ]
          },
          "metadata": {},
          "execution_count": 99
        },
        {
          "output_type": "display_data",
          "data": {
            "image/png": "[encoded data removed]",
            "text/plain": [
              "<Figure size 576x432 with 1 Axes>"
            ]
          },
          "metadata": {
            "needs_background": "light"
          }
        }
      ]
    },
    {
      "cell_type": "markdown",
      "source": [
        "### (iii) Plot the histogram of Google returns and the normal distribution with the same mean and variance."
      ],
      "metadata": {
        "id": "yGk48MsRhuXY"
      }
    },
    {
      "cell_type": "code",
      "source": [
        "log_returns.hist(bins=50, figsize=(9, 6))\n",
        "print (30 * \"-\")\n",
        "log_data = np.array(log_returns.dropna())\n",
        "print_statistics(log_data)"
      ],
      "metadata": {
        "colab": {
          "base_uri": "https://localhost:8080/",
          "height": 564
        },
        "id": "pcm0vJB43iqz",
        "outputId": "040f061f-6915-4f39-d259-62fe9a2002cd"
      },
      "execution_count": 100,
      "outputs": [
        {
          "output_type": "stream",
          "name": "stdout",
          "text": [
            "------------------------------\n",
            "     statistic           value\n",
            "------------------------------\n",
            "          size      4574.00000\n",
            "           min        -0.24618\n",
            "           max         0.23862\n",
            "          mean         0.00088\n",
            "           std         0.02390\n",
            "          skew         0.34654\n",
            "      kurtosis        13.54457\n"
          ]
        },
        {
          "output_type": "display_data",
          "data": {
            "image/png": "[encoded data removed]",
            "text/plain": [
              "<Figure size 648x432 with 1 Axes>"
            ]
          },
          "metadata": {
            "needs_background": "light"
          }
        }
      ]
    },
    {
      "cell_type": "markdown",
      "source": [
        "### (iv) Test normality through qqplot."
      ],
      "metadata": {
        "id": "gTPHIbBViC2G"
      }
    },
    {
      "cell_type": "code",
      "source": [
        "import scipy.stats as scs #module to be able to access qqplot package"
      ],
      "metadata": {
        "id": "mYW3oUMizBpE"
      },
      "execution_count": 101,
      "outputs": []
    },
    {
      "cell_type": "code",
      "source": [
        "scs.probplot(log_returns['amazon'].dropna(),plot=plt,fit=True)\n",
        "plt.grid(True)\n",
        "plt.xlabel('theoretical quantiles')\n",
        "plt.ylabel('sample quantiles')\n",
        "plt.title('qqplot of S&P500')\n",
        "print (32 * \"-\")\n",
        "log_data = np.array(log_returns.dropna())\n",
        "normality_tests(log_data)"
      ],
      "metadata": {
        "colab": {
          "base_uri": "https://localhost:8080/",
          "height": 399
        },
        "id": "VtUtHJBIuil4",
        "outputId": "da366288-a271-443d-bc6b-d37c99953611"
      },
      "execution_count": 102,
      "outputs": [
        {
          "output_type": "stream",
          "name": "stdout",
          "text": [
            "--------------------------------\n",
            "Skew of data set          0.347\n",
            "Skew test p-value          0.000\n",
            "Kurt of data set         13.545\n",
            "Kurt test p-value          0.000\n",
            "Norm test p-value          0.000\n"
          ]
        },
        {
          "output_type": "display_data",
          "data": {
            "image/png": "[encoded data removed]",
            "text/plain": [
              "<Figure size 432x288 with 1 Axes>"
            ]
          },
          "metadata": {
            "needs_background": "light"
          }
        }
      ]
    },
    {
      "cell_type": "markdown",
      "source": [
        ""
      ],
      "metadata": {
        "id": "ha6wUz0Hin9W"
      }
    },
    {
      "cell_type": "markdown",
      "source": [
        "### (v)  Volatility of Amazon  \n",
        "\n"
      ],
      "metadata": {
        "id": "uOw-JKr1in_m"
      }
    },
    {
      "cell_type": "code",
      "source": [
        "AMAZON5 = data.loc['2010-01-01':'2015/01/01'] \n",
        "returns = np.log(AMAZON5 /AMAZON5.shift())\n",
        "vol= returns.rolling(window=252).std()\n",
        "fig = plt.figure(figsize=(10, 7))\n",
        "ax1 = fig.add_subplot(1, 1, 1)\n",
        "vol.plot(ax=ax1)\n",
        "ax1.set_xlabel('Date')\n",
        "ax1.set_ylabel('Volatility')\n",
        "plt.show()"
      ],
      "metadata": {
        "colab": {
          "base_uri": "https://localhost:8080/",
          "height": 424
        },
        "id": "Wx3vN92_f-wc",
        "outputId": "04b3737f-8124-4e5e-a9d4-30d6c44ca0fa"
      },
      "execution_count": 103,
      "outputs": [
        {
          "output_type": "display_data",
          "data": {
            "image/png": "[encoded data removed]",
            "text/plain": [
              "<Figure size 720x504 with 1 Axes>"
            ]
          },
          "metadata": {
            "needs_background": "light"
          }
        }
      ]
    },
    {
      "cell_type": "code",
      "source": [
        "\n"
      ],
      "metadata": {
        "id": "DlO6VrEXf-y4"
      },
      "execution_count": 103,
      "outputs": []
    },
    {
      "cell_type": "markdown",
      "source": [
        "### (vi)  Plot autocorrelation functions  \n"
      ],
      "metadata": {
        "id": "l8nWD5sPkM53"
      }
    },
    {
      "cell_type": "code",
      "source": [
        "plt.acorr(log_returns['amazon'].dropna(), maxlags=20,lw=4)\n",
        "plt.title('Autocorrelations of Log-returns of S&P500')"
      ],
      "metadata": {
        "colab": {
          "base_uri": "https://localhost:8080/",
          "height": 298
        },
        "id": "wZWxS_su0ata",
        "outputId": "116f7008-ac01-45a5-809b-0017cc5b08c4"
      },
      "execution_count": 104,
      "outputs": [
        {
          "output_type": "execute_result",
          "data": {
            "text/plain": [
              "Text(0.5, 1.0, 'Autocorrelations of Log-returns of S&P500')"
            ]
          },
          "metadata": {},
          "execution_count": 104
        },
        {
          "output_type": "display_data",
          "data": {
            "image/png": "[encoded data removed]",
            "text/plain": [
              "<Figure size 432x288 with 1 Axes>"
            ]
          },
          "metadata": {
            "needs_background": "light"
          }
        }
      ]
    }
  ]
}